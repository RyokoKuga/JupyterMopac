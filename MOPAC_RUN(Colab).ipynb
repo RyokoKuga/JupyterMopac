{
  "nbformat": 4,
  "nbformat_minor": 0,
  "metadata": {
    "colab": {
      "provenance": []
    },
    "kernelspec": {
      "name": "python3",
      "display_name": "Python 3"
    },
    "language_info": {
      "name": "python"
    }
  },
  "cells": [
    {
      "cell_type": "code",
      "execution_count": null,
      "metadata": {
        "id": "7hQFceV-8XY_"
      },
      "outputs": [],
      "source": [
        "!wget -c https://repo.continuum.io/miniconda/Miniconda3-latest-Linux-x86_64.sh\n",
        "!chmod +x Miniconda3-latest-Linux-x86_64.sh\n",
        "!bash ./Miniconda3-latest-Linux-x86_64.sh -b -f -p /usr/local"
      ]
    },
    {
      "cell_type": "code",
      "source": [
        "!conda install -c conda-forge -y mopac"
      ],
      "metadata": {
        "id": "dfPtrYNn8ivz"
      },
      "execution_count": null,
      "outputs": []
    },
    {
      "cell_type": "code",
      "source": [
        "!mopac \"/content/H2O.mop\""
      ],
      "metadata": {
        "id": "j_P_zqOe8xQo"
      },
      "execution_count": null,
      "outputs": []
    }
  ]
}