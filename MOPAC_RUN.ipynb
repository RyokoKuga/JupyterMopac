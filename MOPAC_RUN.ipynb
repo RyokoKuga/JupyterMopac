{
  "nbformat": 4,
  "nbformat_minor": 0,
  "metadata": {
    "colab": {
      "provenance": []
    },
    "kernelspec": {
      "name": "python3",
      "display_name": "Python 3"
    },
    "language_info": {
      "name": "python"
    }
  },
  "cells": [
    {
      "cell_type": "code",
      "source": [
        "!mopac \"H2O.mop\""
      ],
      "metadata": {
        "id": "j_P_zqOe8xQo"
      },
      "execution_count": null,
      "outputs": []
    }
  ]
}