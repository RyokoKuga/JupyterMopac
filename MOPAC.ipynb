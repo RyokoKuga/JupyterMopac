{
  "nbformat": 4,
  "nbformat_minor": 0,
  "metadata": {
    "colab": {
      "provenance": []
    },
    "kernelspec": {
      "name": "python3",
      "display_name": "Python 3"
    },
    "language_info": {
      "name": "python"
    }
  },
  "cells": [
    {
      "cell_type": "code",
      "source": [
        "!mopac \"H2O.mop\""
      ],
      "metadata": {
        "colab": {
          "base_uri": "https://localhost:8080/"
        },
        "id": "j_P_zqOe8xQo",
        "outputId": "6fbed790-0322-424b-fa89-fa9107c17857"
      },
      "execution_count": null,
      "outputs": [
        {
          "output_type": "stream",
          "name": "stdout",
          "text": [
            "\n",
            "\n",
            "          MOPAC Job: \"/content/H2O.mop\" ended normally on Mar 14, 2023, at 11:48.\n",
            "\n"
          ]
        }
      ]
    }
  ]
}